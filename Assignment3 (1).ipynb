{
 "cells": [
  {
   "cell_type": "code",
   "execution_count": 2,
   "id": "d45589bc-7774-4709-adfa-8f8809066452",
   "metadata": {},
   "outputs": [],
   "source": [
    "import logging\n",
    "logging.basicConfig(filename='Assignment3.txt',level=logging.DEBUG)"
   ]
  },
  {
   "cell_type": "code",
   "execution_count": 17,
   "id": "8e901fb1-10f0-4f31-8f7a-ad623f79b692",
   "metadata": {},
   "outputs": [
    {
     "data": {
      "text/plain": [
       "[('Virat Kohli', 24936),\n",
       " ('Jack Kallis', 25534),\n",
       " ('Ricky Ponting', 27483),\n",
       " ('Sachin Tendulkar', 34357)]"
      ]
     },
     "execution_count": 17,
     "metadata": {},
     "output_type": "execute_result"
    }
   ],
   "source": [
    "#Que.1\n",
    "a=[('Sachin Tendulkar', 34357), ('Ricky Ponting', 27483), ('Jack Kallis', 25534), ('Virat Kohli', 24936)]\n",
    "a.sort(key=lambda x:x[1])\n",
    "logging.info(a)\n",
    "a"
   ]
  },
  {
   "cell_type": "code",
   "execution_count": 19,
   "id": "1ff1cbcd-b2ff-461a-92d7-fb048513d1db",
   "metadata": {},
   "outputs": [
    {
     "data": {
      "text/plain": [
       "[1, 4, 9, 16, 25, 36, 49, 64, 81, 100]"
      ]
     },
     "execution_count": 19,
     "metadata": {},
     "output_type": "execute_result"
    }
   ],
   "source": [
    "#Que.2\n",
    "##Lambda function\n",
    "a=[1, 2, 3, 4, 5, 6, 7, 8, 9, 10]\n",
    "b=list(map(lambda x:x**2,a))\n",
    "b"
   ]
  },
  {
   "cell_type": "code",
   "execution_count": 23,
   "id": "09fa288a-f187-4c6b-a439-27eec44b29aa",
   "metadata": {},
   "outputs": [
    {
     "data": {
      "text/plain": [
       "('1', '2', '3', '4', '5', '6', '7', '8', '9', '10')"
      ]
     },
     "execution_count": 23,
     "metadata": {},
     "output_type": "execute_result"
    }
   ],
   "source": [
    "#Q3. Write a python program to convert the given list of integers into a tuple of strings. Use map andlambda functions\n",
    "GivenString= [1, 2, 3, 4, 5, 6, 7, 8, 9, 10]\n",
    "s=list(map(lambda x:str(x),GivenString))\n",
    "Ans=tuple(s)\n",
    "Ans\n",
    "\n"
   ]
  },
  {
   "cell_type": "code",
   "execution_count": 26,
   "id": "1ac9f017-dfc7-4581-a404-ea24df731a2d",
   "metadata": {},
   "outputs": [
    {
     "data": {
      "text/plain": [
       "15511210043330985984000000"
      ]
     },
     "execution_count": 26,
     "metadata": {},
     "output_type": "execute_result"
    }
   ],
   "source": [
    "#Que.4\n",
    "l=[i for i in range(1,26)]\n",
    "import functools\n",
    "l1=functools.reduce(lambda x,y:x*y , l)\n",
    "l1"
   ]
  },
  {
   "cell_type": "code",
   "execution_count": 34,
   "id": "3af90bbc-e192-49ad-81d3-b580d2b2b0ba",
   "metadata": {},
   "outputs": [
    {
     "data": {
      "text/plain": [
       "[6, 60, 90, 120]"
      ]
     },
     "execution_count": 34,
     "metadata": {},
     "output_type": "execute_result"
    }
   ],
   "source": [
    "#Que.5\n",
    "#Write a python program to filter the numbers in a given list that are divisible by 2 and 3 using thefilter function.\n",
    "a=[2, 3, 6, 9, 27, 60, 90, 120, 55, 46]\n",
    "Ans=list(filter(lambda x:True if x%2==0 and x%3 ==0 else False,a))\n",
    "Ans"
   ]
  },
  {
   "cell_type": "code",
   "execution_count": 37,
   "id": "10da0b45-02ed-4337-bcac-921d5c56cd67",
   "metadata": {},
   "outputs": [
    {
     "data": {
      "text/plain": [
       "['php', 'aba', 'radar', 'level']"
      ]
     },
     "execution_count": 37,
     "metadata": {},
     "output_type": "execute_result"
    }
   ],
   "source": [
    "#Que.6 Write a python program to find palindromes in the given list of strings using lambda and filterfunction.\n",
    "a=['python', 'php', 'aba', 'radar', 'level']\n",
    "Ans=list(filter(lambda x:True if x==x[::-1] else False,a))\n",
    "Ans\n"
   ]
  }
 ],
 "metadata": {
  "kernelspec": {
   "display_name": "Python 3 (ipykernel)",
   "language": "python",
   "name": "python3"
  },
  "language_info": {
   "codemirror_mode": {
    "name": "ipython",
    "version": 3
   },
   "file_extension": ".py",
   "mimetype": "text/x-python",
   "name": "python",
   "nbconvert_exporter": "python",
   "pygments_lexer": "ipython3",
   "version": "3.10.8"
  }
 },
 "nbformat": 4,
 "nbformat_minor": 5
}
